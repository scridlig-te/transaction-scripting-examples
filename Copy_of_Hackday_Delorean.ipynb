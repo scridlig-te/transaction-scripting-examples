{
  "nbformat": 4,
  "nbformat_minor": 0,
  "metadata": {
    "colab": {
      "name": "Copy of Hackday_Delorean.ipynb",
      "provenance": [],
      "collapsed_sections": [
        "NEwptEzwJsNh",
        "1L9QwEJ-J8vX",
        "p3WR9eMPqVCB",
        "N-_c3xAwOuMM",
        "W1RyJDMA1B58",
        "Snlfk6Z_1FbR",
        "XUsodaFzVIpF"
      ],
      "include_colab_link": true
    },
    "kernelspec": {
      "name": "python3",
      "display_name": "Python 3"
    }
  },
  "cells": [
    {
      "cell_type": "markdown",
      "metadata": {
        "id": "view-in-github",
        "colab_type": "text"
      },
      "source": [
        "<a href=\"https://colab.research.google.com/github/scridlig-te/transaction-scripting-examples/blob/master/Copy_of_Hackday_Delorean.ipynb\" target=\"_parent\"><img src=\"https://colab.research.google.com/assets/colab-badge.svg\" alt=\"Open In Colab\"/></a>"
      ]
    },
    {
      "cell_type": "markdown",
      "metadata": {
        "id": "NEwptEzwJsNh"
      },
      "source": [
        "# Import Data"
      ]
    },
    {
      "cell_type": "markdown",
      "metadata": {
        "id": "sIKIMHvWqzJe"
      },
      "source": [
        "Mount Drive and Access to Gsheet \"umerged_outages_v1\""
      ]
    },
    {
      "cell_type": "code",
      "metadata": {
        "id": "gayvss2onW-i",
        "colab": {
          "base_uri": "https://localhost:8080/"
        },
        "outputId": "5a89a47b-5746-4f64-84f6-6c37ab2d8cd7"
      },
      "source": [
        "from google.colab import drive\n",
        "\n",
        "drive.mount('/content/gdrive')\n",
        "\n",
        "from google.colab import auth\n",
        "auth.authenticate_user()\n",
        "\n",
        "import gspread\n",
        "from oauth2client.client import GoogleCredentials\n",
        "\n",
        "gc = gspread.authorize(GoogleCredentials.get_application_default())"
      ],
      "execution_count": null,
      "outputs": [
        {
          "output_type": "stream",
          "text": [
            "Drive already mounted at /content/gdrive; to attempt to forcibly remount, call drive.mount(\"/content/gdrive\", force_remount=True).\n"
          ],
          "name": "stdout"
        }
      ]
    },
    {
      "cell_type": "markdown",
      "metadata": {
        "id": "OvNlJXfkyjqz"
      },
      "source": [
        "Import Data from Gsheet"
      ]
    },
    {
      "cell_type": "code",
      "metadata": {
        "id": "_5cPBM-Oqx1A"
      },
      "source": [
        "wb = gc.open_by_url('https://docs.google.com/spreadsheets/d/1gEUHquVBTl-eIEwcVA44akb30aWbPEhdCqZ7cbkgnqM/edit?usp=sharing')\n",
        "sheet = wb.worksheet('umerged_outages_v1')\n",
        "data = sheet.get_all_values()"
      ],
      "execution_count": null,
      "outputs": []
    },
    {
      "cell_type": "code",
      "metadata": {
        "id": "H7rqVQQMk4s-",
        "colab": {
          "base_uri": "https://localhost:8080/",
          "height": 326
        },
        "outputId": "d306a93a-2eba-44d3-f800-987452002690"
      },
      "source": [
        "import pandas as pd\n",
        "import matplotlib.pyplot as plt\n",
        "import numpy as np\n",
        "\n",
        "raw_df = pd.DataFrame(data)\n",
        "raw_df.columns = raw_df.iloc[0]\n",
        "raw_df = raw_df.iloc[1:]\n",
        "raw_df.head()"
      ],
      "execution_count": null,
      "outputs": [
        {
          "output_type": "execute_result",
          "data": {
            "text/html": [
              "<div>\n",
              "<style scoped>\n",
              "    .dataframe tbody tr th:only-of-type {\n",
              "        vertical-align: middle;\n",
              "    }\n",
              "\n",
              "    .dataframe tbody tr th {\n",
              "        vertical-align: top;\n",
              "    }\n",
              "\n",
              "    .dataframe thead th {\n",
              "        text-align: right;\n",
              "    }\n",
              "</style>\n",
              "<table border=\"1\" class=\"dataframe\">\n",
              "  <thead>\n",
              "    <tr style=\"text-align: right;\">\n",
              "      <th></th>\n",
              "      <th>outage_event_id</th>\n",
              "      <th>asn</th>\n",
              "      <th>as_name</th>\n",
              "      <th>catalog_entry</th>\n",
              "      <th>entry_type</th>\n",
              "      <th>is_north_america</th>\n",
              "      <th>is_latin_america</th>\n",
              "      <th>is_emea</th>\n",
              "      <th>is_asia_pacific</th>\n",
              "      <th>outage_datetime</th>\n",
              "      <th>num_interfaces</th>\n",
              "      <th>num_locations</th>\n",
              "      <th>num_root_domains</th>\n",
              "      <th>duration_rounds</th>\n",
              "    </tr>\n",
              "  </thead>\n",
              "  <tbody>\n",
              "    <tr>\n",
              "      <th>1</th>\n",
              "      <td>5d5658a2b55155283e02e143</td>\n",
              "      <td>6939</td>\n",
              "      <td>Hurricane Electric, Inc.</td>\n",
              "      <td>Hurricane Electric</td>\n",
              "      <td>ISP</td>\n",
              "      <td>TRUE</td>\n",
              "      <td>FALSE</td>\n",
              "      <td>FALSE</td>\n",
              "      <td>FALSE</td>\n",
              "      <td>2019-08-16 07:10:00</td>\n",
              "      <td>3</td>\n",
              "      <td>1</td>\n",
              "      <td>2</td>\n",
              "      <td>1</td>\n",
              "    </tr>\n",
              "    <tr>\n",
              "      <th>2</th>\n",
              "      <td>5d565c13eba6210ace81ef5f</td>\n",
              "      <td>26415</td>\n",
              "      <td>VeriSign Global Registry Services</td>\n",
              "      <td>Verisign</td>\n",
              "      <td>DNS</td>\n",
              "      <td>TRUE</td>\n",
              "      <td>FALSE</td>\n",
              "      <td>FALSE</td>\n",
              "      <td>FALSE</td>\n",
              "      <td>2019-08-16 07:25:00</td>\n",
              "      <td>3</td>\n",
              "      <td>1</td>\n",
              "      <td>4</td>\n",
              "      <td>1</td>\n",
              "    </tr>\n",
              "    <tr>\n",
              "      <th>3</th>\n",
              "      <td>5d567715de837a880c530dc1</td>\n",
              "      <td>41095</td>\n",
              "      <td>IPTriplePlay Ltd</td>\n",
              "      <td>IPTP Networks</td>\n",
              "      <td>ISP</td>\n",
              "      <td>TRUE</td>\n",
              "      <td>FALSE</td>\n",
              "      <td>FALSE</td>\n",
              "      <td>FALSE</td>\n",
              "      <td>2019-08-16 09:20:00</td>\n",
              "      <td>3</td>\n",
              "      <td>1</td>\n",
              "      <td>2</td>\n",
              "      <td>4</td>\n",
              "    </tr>\n",
              "    <tr>\n",
              "      <th>4</th>\n",
              "      <td>5d567715de837a880c530dc0</td>\n",
              "      <td>3356</td>\n",
              "      <td>Level 3 Communications, Inc.</td>\n",
              "      <td>Century Link</td>\n",
              "      <td>ISP</td>\n",
              "      <td>TRUE</td>\n",
              "      <td>FALSE</td>\n",
              "      <td>FALSE</td>\n",
              "      <td>FALSE</td>\n",
              "      <td>2019-08-16 09:20:00</td>\n",
              "      <td>3</td>\n",
              "      <td>1</td>\n",
              "      <td>2</td>\n",
              "      <td>1</td>\n",
              "    </tr>\n",
              "    <tr>\n",
              "      <th>5</th>\n",
              "      <td>5d56782efbb90e076e6560bf</td>\n",
              "      <td>41095</td>\n",
              "      <td>IPTriplePlay Ltd</td>\n",
              "      <td>IPTP Networks</td>\n",
              "      <td>ISP</td>\n",
              "      <td>TRUE</td>\n",
              "      <td>FALSE</td>\n",
              "      <td>FALSE</td>\n",
              "      <td>FALSE</td>\n",
              "      <td>2019-08-16 09:25:00</td>\n",
              "      <td>6</td>\n",
              "      <td>1</td>\n",
              "      <td>6</td>\n",
              "      <td>4</td>\n",
              "    </tr>\n",
              "  </tbody>\n",
              "</table>\n",
              "</div>"
            ],
            "text/plain": [
              "0           outage_event_id    asn  ... num_root_domains duration_rounds\n",
              "1  5d5658a2b55155283e02e143   6939  ...                2               1\n",
              "2  5d565c13eba6210ace81ef5f  26415  ...                4               1\n",
              "3  5d567715de837a880c530dc1  41095  ...                2               4\n",
              "4  5d567715de837a880c530dc0   3356  ...                2               1\n",
              "5  5d56782efbb90e076e6560bf  41095  ...                6               4\n",
              "\n",
              "[5 rows x 14 columns]"
            ]
          },
          "metadata": {
            "tags": []
          },
          "execution_count": 94
        }
      ]
    },
    {
      "cell_type": "markdown",
      "metadata": {
        "id": "1L9QwEJ-J8vX"
      },
      "source": [
        "# Prepare Data"
      ]
    },
    {
      "cell_type": "code",
      "metadata": {
        "id": "Nh9KTPr5QJ0r"
      },
      "source": [
        "clean_df = raw_df.copy()"
      ],
      "execution_count": null,
      "outputs": []
    },
    {
      "cell_type": "code",
      "metadata": {
        "colab": {
          "base_uri": "https://localhost:8080/",
          "height": 326
        },
        "id": "_DJ5P09xpmfa",
        "outputId": "3d0b0a77-e931-4c7b-d2db-7f5069fb2c7b"
      },
      "source": [
        "clean_df.head()"
      ],
      "execution_count": null,
      "outputs": [
        {
          "output_type": "execute_result",
          "data": {
            "text/html": [
              "<div>\n",
              "<style scoped>\n",
              "    .dataframe tbody tr th:only-of-type {\n",
              "        vertical-align: middle;\n",
              "    }\n",
              "\n",
              "    .dataframe tbody tr th {\n",
              "        vertical-align: top;\n",
              "    }\n",
              "\n",
              "    .dataframe thead th {\n",
              "        text-align: right;\n",
              "    }\n",
              "</style>\n",
              "<table border=\"1\" class=\"dataframe\">\n",
              "  <thead>\n",
              "    <tr style=\"text-align: right;\">\n",
              "      <th></th>\n",
              "      <th>outage_event_id</th>\n",
              "      <th>asn</th>\n",
              "      <th>as_name</th>\n",
              "      <th>catalog_entry</th>\n",
              "      <th>entry_type</th>\n",
              "      <th>is_north_america</th>\n",
              "      <th>is_latin_america</th>\n",
              "      <th>is_emea</th>\n",
              "      <th>is_asia_pacific</th>\n",
              "      <th>outage_datetime</th>\n",
              "      <th>num_interfaces</th>\n",
              "      <th>num_locations</th>\n",
              "      <th>num_root_domains</th>\n",
              "      <th>duration_rounds</th>\n",
              "    </tr>\n",
              "  </thead>\n",
              "  <tbody>\n",
              "    <tr>\n",
              "      <th>1</th>\n",
              "      <td>5d5658a2b55155283e02e143</td>\n",
              "      <td>6939</td>\n",
              "      <td>Hurricane Electric, Inc.</td>\n",
              "      <td>Hurricane Electric</td>\n",
              "      <td>ISP</td>\n",
              "      <td>TRUE</td>\n",
              "      <td>FALSE</td>\n",
              "      <td>FALSE</td>\n",
              "      <td>FALSE</td>\n",
              "      <td>2019-08-16 07:10:00</td>\n",
              "      <td>3</td>\n",
              "      <td>1</td>\n",
              "      <td>2</td>\n",
              "      <td>1</td>\n",
              "    </tr>\n",
              "    <tr>\n",
              "      <th>2</th>\n",
              "      <td>5d565c13eba6210ace81ef5f</td>\n",
              "      <td>26415</td>\n",
              "      <td>VeriSign Global Registry Services</td>\n",
              "      <td>Verisign</td>\n",
              "      <td>DNS</td>\n",
              "      <td>TRUE</td>\n",
              "      <td>FALSE</td>\n",
              "      <td>FALSE</td>\n",
              "      <td>FALSE</td>\n",
              "      <td>2019-08-16 07:25:00</td>\n",
              "      <td>3</td>\n",
              "      <td>1</td>\n",
              "      <td>4</td>\n",
              "      <td>1</td>\n",
              "    </tr>\n",
              "    <tr>\n",
              "      <th>3</th>\n",
              "      <td>5d567715de837a880c530dc1</td>\n",
              "      <td>41095</td>\n",
              "      <td>IPTriplePlay Ltd</td>\n",
              "      <td>IPTP Networks</td>\n",
              "      <td>ISP</td>\n",
              "      <td>TRUE</td>\n",
              "      <td>FALSE</td>\n",
              "      <td>FALSE</td>\n",
              "      <td>FALSE</td>\n",
              "      <td>2019-08-16 09:20:00</td>\n",
              "      <td>3</td>\n",
              "      <td>1</td>\n",
              "      <td>2</td>\n",
              "      <td>4</td>\n",
              "    </tr>\n",
              "    <tr>\n",
              "      <th>4</th>\n",
              "      <td>5d567715de837a880c530dc0</td>\n",
              "      <td>3356</td>\n",
              "      <td>Level 3 Communications, Inc.</td>\n",
              "      <td>Century Link</td>\n",
              "      <td>ISP</td>\n",
              "      <td>TRUE</td>\n",
              "      <td>FALSE</td>\n",
              "      <td>FALSE</td>\n",
              "      <td>FALSE</td>\n",
              "      <td>2019-08-16 09:20:00</td>\n",
              "      <td>3</td>\n",
              "      <td>1</td>\n",
              "      <td>2</td>\n",
              "      <td>1</td>\n",
              "    </tr>\n",
              "    <tr>\n",
              "      <th>5</th>\n",
              "      <td>5d56782efbb90e076e6560bf</td>\n",
              "      <td>41095</td>\n",
              "      <td>IPTriplePlay Ltd</td>\n",
              "      <td>IPTP Networks</td>\n",
              "      <td>ISP</td>\n",
              "      <td>TRUE</td>\n",
              "      <td>FALSE</td>\n",
              "      <td>FALSE</td>\n",
              "      <td>FALSE</td>\n",
              "      <td>2019-08-16 09:25:00</td>\n",
              "      <td>6</td>\n",
              "      <td>1</td>\n",
              "      <td>6</td>\n",
              "      <td>4</td>\n",
              "    </tr>\n",
              "  </tbody>\n",
              "</table>\n",
              "</div>"
            ],
            "text/plain": [
              "0           outage_event_id    asn  ... num_root_domains duration_rounds\n",
              "1  5d5658a2b55155283e02e143   6939  ...                2               1\n",
              "2  5d565c13eba6210ace81ef5f  26415  ...                4               1\n",
              "3  5d567715de837a880c530dc1  41095  ...                2               4\n",
              "4  5d567715de837a880c530dc0   3356  ...                2               1\n",
              "5  5d56782efbb90e076e6560bf  41095  ...                6               4\n",
              "\n",
              "[5 rows x 14 columns]"
            ]
          },
          "metadata": {
            "tags": []
          },
          "execution_count": 96
        }
      ]
    },
    {
      "cell_type": "code",
      "metadata": {
        "id": "bL00IyLepzjP"
      },
      "source": [
        "from sklearn.preprocessing import OrdinalEncoder\n",
        "from sklearn.preprocessing import OneHotEncoder"
      ],
      "execution_count": null,
      "outputs": []
    },
    {
      "cell_type": "markdown",
      "metadata": {
        "id": "Vn3EmkXGpI5X"
      },
      "source": [
        "The following functions clean and reshape the data to prepare it for analysis."
      ]
    },
    {
      "cell_type": "code",
      "metadata": {
        "id": "YfxvFRmoV5Sw"
      },
      "source": [
        "#this function ensures all values are numeric and it handles missing values\n",
        "def clean_that_data(df):\n",
        "  df.replace(['FALSE','TRUE'], [0,1], inplace=True) #convert booleans to integers\n",
        "\n",
        "  df = df[~(df.duration_rounds == '')] #remove blank values\n",
        "  df = df[~(df.num_interfaces == '')]\n",
        "  df = df[~(df.num_locations == '')]\n",
        "  df = df[~(df.num_root_domains == '')]\n",
        "  df = df[~(df.entry_type == '')]\n",
        "  #convert objects to numeric values\n",
        "  dtype_dict = {'num_interfaces':'int64',\n",
        "              'num_locations':'int64',\n",
        "              'num_root_domains':'int64',\n",
        "              'duration_rounds':'int64'}\n",
        "  df = df.astype(dtype_dict)\n",
        "\n",
        "  return df"
      ],
      "execution_count": null,
      "outputs": []
    },
    {
      "cell_type": "code",
      "metadata": {
        "id": "I6e5JH7vjb80"
      },
      "source": [
        "#this function encodes categorical variables \n",
        "def encode_cat(df):\n",
        "  encoder = OneHotEncoder(sparse=False)\n",
        "  result = encoder.fit_transform(df[['entry_type']])\n",
        "  encoded_df = pd.DataFrame(result, columns=encoder.get_feature_names())\n",
        "\n",
        "  return encoded_df"
      ],
      "execution_count": null,
      "outputs": []
    },
    {
      "cell_type": "code",
      "metadata": {
        "id": "RSkeBDo3j7NP"
      },
      "source": [
        "#this functions pieces together the results of the above functions and outputs the final dataframe\n",
        "def create_final_df(raw_df):\n",
        "  cleaned_df = clean_that_data(raw_df)\n",
        "  encoded_df = encode_cat(raw_df)\n",
        "  #merge above dfs\n",
        "  final_df = cleaned_df.merge(encoded_df, left_index=True, right_index=True)\n",
        "\n",
        "  return final_df"
      ],
      "execution_count": null,
      "outputs": []
    },
    {
      "cell_type": "code",
      "metadata": {
        "id": "F6E3a4qudxzx"
      },
      "source": [
        "final_df = create_final_df(clean_df)"
      ],
      "execution_count": null,
      "outputs": []
    },
    {
      "cell_type": "code",
      "metadata": {
        "colab": {
          "base_uri": "https://localhost:8080/",
          "height": 360
        },
        "id": "iVb6LsevptRN",
        "outputId": "9b2e0105-6bdf-4bb8-d5c3-4f8d8e91a3cc"
      },
      "source": [
        "final_df.head()"
      ],
      "execution_count": null,
      "outputs": [
        {
          "output_type": "execute_result",
          "data": {
            "text/html": [
              "<div>\n",
              "<style scoped>\n",
              "    .dataframe tbody tr th:only-of-type {\n",
              "        vertical-align: middle;\n",
              "    }\n",
              "\n",
              "    .dataframe tbody tr th {\n",
              "        vertical-align: top;\n",
              "    }\n",
              "\n",
              "    .dataframe thead th {\n",
              "        text-align: right;\n",
              "    }\n",
              "</style>\n",
              "<table border=\"1\" class=\"dataframe\">\n",
              "  <thead>\n",
              "    <tr style=\"text-align: right;\">\n",
              "      <th></th>\n",
              "      <th>outage_event_id</th>\n",
              "      <th>asn</th>\n",
              "      <th>as_name</th>\n",
              "      <th>catalog_entry</th>\n",
              "      <th>entry_type</th>\n",
              "      <th>is_north_america</th>\n",
              "      <th>is_latin_america</th>\n",
              "      <th>is_emea</th>\n",
              "      <th>is_asia_pacific</th>\n",
              "      <th>outage_datetime</th>\n",
              "      <th>num_interfaces</th>\n",
              "      <th>num_locations</th>\n",
              "      <th>num_root_domains</th>\n",
              "      <th>duration_rounds</th>\n",
              "      <th>x0_</th>\n",
              "      <th>x0_CDN</th>\n",
              "      <th>x0_DNS</th>\n",
              "      <th>x0_DNS-CDN-IAAS</th>\n",
              "      <th>x0_IAAS</th>\n",
              "      <th>x0_ISP</th>\n",
              "      <th>x0_SECAAS</th>\n",
              "      <th>x0_UCAAS</th>\n",
              "      <th>x0_UCAAS-IAAS</th>\n",
              "    </tr>\n",
              "  </thead>\n",
              "  <tbody>\n",
              "    <tr>\n",
              "      <th>1</th>\n",
              "      <td>5d5658a2b55155283e02e143</td>\n",
              "      <td>6939</td>\n",
              "      <td>Hurricane Electric, Inc.</td>\n",
              "      <td>Hurricane Electric</td>\n",
              "      <td>ISP</td>\n",
              "      <td>1</td>\n",
              "      <td>0</td>\n",
              "      <td>0</td>\n",
              "      <td>0</td>\n",
              "      <td>2019-08-16 07:10:00</td>\n",
              "      <td>3</td>\n",
              "      <td>1</td>\n",
              "      <td>2</td>\n",
              "      <td>1</td>\n",
              "      <td>0.0</td>\n",
              "      <td>0.0</td>\n",
              "      <td>1.0</td>\n",
              "      <td>0.0</td>\n",
              "      <td>0.0</td>\n",
              "      <td>0.0</td>\n",
              "      <td>0.0</td>\n",
              "      <td>0.0</td>\n",
              "      <td>0.0</td>\n",
              "    </tr>\n",
              "    <tr>\n",
              "      <th>2</th>\n",
              "      <td>5d565c13eba6210ace81ef5f</td>\n",
              "      <td>26415</td>\n",
              "      <td>VeriSign Global Registry Services</td>\n",
              "      <td>Verisign</td>\n",
              "      <td>DNS</td>\n",
              "      <td>1</td>\n",
              "      <td>0</td>\n",
              "      <td>0</td>\n",
              "      <td>0</td>\n",
              "      <td>2019-08-16 07:25:00</td>\n",
              "      <td>3</td>\n",
              "      <td>1</td>\n",
              "      <td>4</td>\n",
              "      <td>1</td>\n",
              "      <td>0.0</td>\n",
              "      <td>0.0</td>\n",
              "      <td>0.0</td>\n",
              "      <td>0.0</td>\n",
              "      <td>0.0</td>\n",
              "      <td>1.0</td>\n",
              "      <td>0.0</td>\n",
              "      <td>0.0</td>\n",
              "      <td>0.0</td>\n",
              "    </tr>\n",
              "    <tr>\n",
              "      <th>3</th>\n",
              "      <td>5d567715de837a880c530dc1</td>\n",
              "      <td>41095</td>\n",
              "      <td>IPTriplePlay Ltd</td>\n",
              "      <td>IPTP Networks</td>\n",
              "      <td>ISP</td>\n",
              "      <td>1</td>\n",
              "      <td>0</td>\n",
              "      <td>0</td>\n",
              "      <td>0</td>\n",
              "      <td>2019-08-16 09:20:00</td>\n",
              "      <td>3</td>\n",
              "      <td>1</td>\n",
              "      <td>2</td>\n",
              "      <td>4</td>\n",
              "      <td>0.0</td>\n",
              "      <td>0.0</td>\n",
              "      <td>0.0</td>\n",
              "      <td>0.0</td>\n",
              "      <td>0.0</td>\n",
              "      <td>1.0</td>\n",
              "      <td>0.0</td>\n",
              "      <td>0.0</td>\n",
              "      <td>0.0</td>\n",
              "    </tr>\n",
              "    <tr>\n",
              "      <th>4</th>\n",
              "      <td>5d567715de837a880c530dc0</td>\n",
              "      <td>3356</td>\n",
              "      <td>Level 3 Communications, Inc.</td>\n",
              "      <td>Century Link</td>\n",
              "      <td>ISP</td>\n",
              "      <td>1</td>\n",
              "      <td>0</td>\n",
              "      <td>0</td>\n",
              "      <td>0</td>\n",
              "      <td>2019-08-16 09:20:00</td>\n",
              "      <td>3</td>\n",
              "      <td>1</td>\n",
              "      <td>2</td>\n",
              "      <td>1</td>\n",
              "      <td>0.0</td>\n",
              "      <td>0.0</td>\n",
              "      <td>0.0</td>\n",
              "      <td>0.0</td>\n",
              "      <td>0.0</td>\n",
              "      <td>1.0</td>\n",
              "      <td>0.0</td>\n",
              "      <td>0.0</td>\n",
              "      <td>0.0</td>\n",
              "    </tr>\n",
              "    <tr>\n",
              "      <th>5</th>\n",
              "      <td>5d56782efbb90e076e6560bf</td>\n",
              "      <td>41095</td>\n",
              "      <td>IPTriplePlay Ltd</td>\n",
              "      <td>IPTP Networks</td>\n",
              "      <td>ISP</td>\n",
              "      <td>1</td>\n",
              "      <td>0</td>\n",
              "      <td>0</td>\n",
              "      <td>0</td>\n",
              "      <td>2019-08-16 09:25:00</td>\n",
              "      <td>6</td>\n",
              "      <td>1</td>\n",
              "      <td>6</td>\n",
              "      <td>4</td>\n",
              "      <td>0.0</td>\n",
              "      <td>0.0</td>\n",
              "      <td>0.0</td>\n",
              "      <td>0.0</td>\n",
              "      <td>0.0</td>\n",
              "      <td>1.0</td>\n",
              "      <td>0.0</td>\n",
              "      <td>0.0</td>\n",
              "      <td>0.0</td>\n",
              "    </tr>\n",
              "  </tbody>\n",
              "</table>\n",
              "</div>"
            ],
            "text/plain": [
              "            outage_event_id    asn  ... x0_UCAAS x0_UCAAS-IAAS\n",
              "1  5d5658a2b55155283e02e143   6939  ...      0.0           0.0\n",
              "2  5d565c13eba6210ace81ef5f  26415  ...      0.0           0.0\n",
              "3  5d567715de837a880c530dc1  41095  ...      0.0           0.0\n",
              "4  5d567715de837a880c530dc0   3356  ...      0.0           0.0\n",
              "5  5d56782efbb90e076e6560bf  41095  ...      0.0           0.0\n",
              "\n",
              "[5 rows x 23 columns]"
            ]
          },
          "metadata": {
            "tags": []
          },
          "execution_count": 102
        }
      ]
    },
    {
      "cell_type": "code",
      "metadata": {
        "colab": {
          "base_uri": "https://localhost:8080/",
          "height": 334
        },
        "id": "5yzGBNo7dWmd",
        "outputId": "be9c8e1c-34e5-4106-ab03-7df08f4968df"
      },
      "source": [
        "final_df.describe()"
      ],
      "execution_count": null,
      "outputs": [
        {
          "output_type": "execute_result",
          "data": {
            "text/html": [
              "<div>\n",
              "<style scoped>\n",
              "    .dataframe tbody tr th:only-of-type {\n",
              "        vertical-align: middle;\n",
              "    }\n",
              "\n",
              "    .dataframe tbody tr th {\n",
              "        vertical-align: top;\n",
              "    }\n",
              "\n",
              "    .dataframe thead th {\n",
              "        text-align: right;\n",
              "    }\n",
              "</style>\n",
              "<table border=\"1\" class=\"dataframe\">\n",
              "  <thead>\n",
              "    <tr style=\"text-align: right;\">\n",
              "      <th></th>\n",
              "      <th>is_north_america</th>\n",
              "      <th>is_latin_america</th>\n",
              "      <th>is_emea</th>\n",
              "      <th>is_asia_pacific</th>\n",
              "      <th>num_interfaces</th>\n",
              "      <th>num_locations</th>\n",
              "      <th>num_root_domains</th>\n",
              "      <th>duration_rounds</th>\n",
              "      <th>x0_</th>\n",
              "      <th>x0_CDN</th>\n",
              "      <th>x0_DNS</th>\n",
              "      <th>x0_DNS-CDN-IAAS</th>\n",
              "      <th>x0_IAAS</th>\n",
              "      <th>x0_ISP</th>\n",
              "      <th>x0_SECAAS</th>\n",
              "      <th>x0_UCAAS</th>\n",
              "      <th>x0_UCAAS-IAAS</th>\n",
              "    </tr>\n",
              "  </thead>\n",
              "  <tbody>\n",
              "    <tr>\n",
              "      <th>count</th>\n",
              "      <td>52757.000000</td>\n",
              "      <td>52757.000000</td>\n",
              "      <td>52757.000000</td>\n",
              "      <td>52757.000000</td>\n",
              "      <td>52757.000000</td>\n",
              "      <td>52757.000000</td>\n",
              "      <td>52757.000000</td>\n",
              "      <td>52757.000000</td>\n",
              "      <td>52757.000000</td>\n",
              "      <td>52757.000000</td>\n",
              "      <td>52757.000000</td>\n",
              "      <td>52757.000000</td>\n",
              "      <td>52757.000000</td>\n",
              "      <td>52757.000000</td>\n",
              "      <td>52757.000000</td>\n",
              "      <td>52757.000000</td>\n",
              "      <td>52757.000000</td>\n",
              "    </tr>\n",
              "    <tr>\n",
              "      <th>mean</th>\n",
              "      <td>0.714730</td>\n",
              "      <td>0.025835</td>\n",
              "      <td>0.406922</td>\n",
              "      <td>0.221582</td>\n",
              "      <td>28.446746</td>\n",
              "      <td>4.551567</td>\n",
              "      <td>49.897625</td>\n",
              "      <td>4.601115</td>\n",
              "      <td>0.002331</td>\n",
              "      <td>0.009553</td>\n",
              "      <td>0.002483</td>\n",
              "      <td>0.012548</td>\n",
              "      <td>0.023201</td>\n",
              "      <td>0.858142</td>\n",
              "      <td>0.056732</td>\n",
              "      <td>0.011221</td>\n",
              "      <td>0.023788</td>\n",
              "    </tr>\n",
              "    <tr>\n",
              "      <th>std</th>\n",
              "      <td>0.451547</td>\n",
              "      <td>0.158646</td>\n",
              "      <td>0.491265</td>\n",
              "      <td>0.415315</td>\n",
              "      <td>40.974253</td>\n",
              "      <td>5.116148</td>\n",
              "      <td>87.437335</td>\n",
              "      <td>4.241568</td>\n",
              "      <td>0.048229</td>\n",
              "      <td>0.097274</td>\n",
              "      <td>0.049769</td>\n",
              "      <td>0.111314</td>\n",
              "      <td>0.150542</td>\n",
              "      <td>0.348908</td>\n",
              "      <td>0.231332</td>\n",
              "      <td>0.105335</td>\n",
              "      <td>0.152391</td>\n",
              "    </tr>\n",
              "    <tr>\n",
              "      <th>min</th>\n",
              "      <td>0.000000</td>\n",
              "      <td>0.000000</td>\n",
              "      <td>0.000000</td>\n",
              "      <td>0.000000</td>\n",
              "      <td>2.000000</td>\n",
              "      <td>1.000000</td>\n",
              "      <td>1.000000</td>\n",
              "      <td>1.000000</td>\n",
              "      <td>0.000000</td>\n",
              "      <td>0.000000</td>\n",
              "      <td>0.000000</td>\n",
              "      <td>0.000000</td>\n",
              "      <td>0.000000</td>\n",
              "      <td>0.000000</td>\n",
              "      <td>0.000000</td>\n",
              "      <td>0.000000</td>\n",
              "      <td>0.000000</td>\n",
              "    </tr>\n",
              "    <tr>\n",
              "      <th>25%</th>\n",
              "      <td>0.000000</td>\n",
              "      <td>0.000000</td>\n",
              "      <td>0.000000</td>\n",
              "      <td>0.000000</td>\n",
              "      <td>4.000000</td>\n",
              "      <td>1.000000</td>\n",
              "      <td>2.000000</td>\n",
              "      <td>1.000000</td>\n",
              "      <td>0.000000</td>\n",
              "      <td>0.000000</td>\n",
              "      <td>0.000000</td>\n",
              "      <td>0.000000</td>\n",
              "      <td>0.000000</td>\n",
              "      <td>1.000000</td>\n",
              "      <td>0.000000</td>\n",
              "      <td>0.000000</td>\n",
              "      <td>0.000000</td>\n",
              "    </tr>\n",
              "    <tr>\n",
              "      <th>50%</th>\n",
              "      <td>1.000000</td>\n",
              "      <td>0.000000</td>\n",
              "      <td>0.000000</td>\n",
              "      <td>0.000000</td>\n",
              "      <td>12.000000</td>\n",
              "      <td>2.000000</td>\n",
              "      <td>9.000000</td>\n",
              "      <td>3.000000</td>\n",
              "      <td>0.000000</td>\n",
              "      <td>0.000000</td>\n",
              "      <td>0.000000</td>\n",
              "      <td>0.000000</td>\n",
              "      <td>0.000000</td>\n",
              "      <td>1.000000</td>\n",
              "      <td>0.000000</td>\n",
              "      <td>0.000000</td>\n",
              "      <td>0.000000</td>\n",
              "    </tr>\n",
              "    <tr>\n",
              "      <th>75%</th>\n",
              "      <td>1.000000</td>\n",
              "      <td>0.000000</td>\n",
              "      <td>1.000000</td>\n",
              "      <td>0.000000</td>\n",
              "      <td>32.000000</td>\n",
              "      <td>6.000000</td>\n",
              "      <td>52.000000</td>\n",
              "      <td>6.000000</td>\n",
              "      <td>0.000000</td>\n",
              "      <td>0.000000</td>\n",
              "      <td>0.000000</td>\n",
              "      <td>0.000000</td>\n",
              "      <td>0.000000</td>\n",
              "      <td>1.000000</td>\n",
              "      <td>0.000000</td>\n",
              "      <td>0.000000</td>\n",
              "      <td>0.000000</td>\n",
              "    </tr>\n",
              "    <tr>\n",
              "      <th>max</th>\n",
              "      <td>1.000000</td>\n",
              "      <td>1.000000</td>\n",
              "      <td>1.000000</td>\n",
              "      <td>1.000000</td>\n",
              "      <td>273.000000</td>\n",
              "      <td>26.000000</td>\n",
              "      <td>841.000000</td>\n",
              "      <td>25.000000</td>\n",
              "      <td>1.000000</td>\n",
              "      <td>1.000000</td>\n",
              "      <td>1.000000</td>\n",
              "      <td>1.000000</td>\n",
              "      <td>1.000000</td>\n",
              "      <td>1.000000</td>\n",
              "      <td>1.000000</td>\n",
              "      <td>1.000000</td>\n",
              "      <td>1.000000</td>\n",
              "    </tr>\n",
              "  </tbody>\n",
              "</table>\n",
              "</div>"
            ],
            "text/plain": [
              "       is_north_america  is_latin_america  ...      x0_UCAAS  x0_UCAAS-IAAS\n",
              "count      52757.000000      52757.000000  ...  52757.000000   52757.000000\n",
              "mean           0.714730          0.025835  ...      0.011221       0.023788\n",
              "std            0.451547          0.158646  ...      0.105335       0.152391\n",
              "min            0.000000          0.000000  ...      0.000000       0.000000\n",
              "25%            0.000000          0.000000  ...      0.000000       0.000000\n",
              "50%            1.000000          0.000000  ...      0.000000       0.000000\n",
              "75%            1.000000          0.000000  ...      0.000000       0.000000\n",
              "max            1.000000          1.000000  ...      1.000000       1.000000\n",
              "\n",
              "[8 rows x 17 columns]"
            ]
          },
          "metadata": {
            "tags": []
          },
          "execution_count": 103
        }
      ]
    },
    {
      "cell_type": "code",
      "metadata": {
        "colab": {
          "base_uri": "https://localhost:8080/"
        },
        "id": "S9t9FrOXqQXa",
        "outputId": "e81fc65e-104c-48a1-8d99-79e6457e8942"
      },
      "source": [
        "final_df.info()"
      ],
      "execution_count": null,
      "outputs": [
        {
          "output_type": "stream",
          "text": [
            "<class 'pandas.core.frame.DataFrame'>\n",
            "Int64Index: 52757 entries, 1 to 53058\n",
            "Data columns (total 23 columns):\n",
            " #   Column            Non-Null Count  Dtype  \n",
            "---  ------            --------------  -----  \n",
            " 0   outage_event_id   52757 non-null  object \n",
            " 1   asn               52757 non-null  object \n",
            " 2   as_name           52757 non-null  object \n",
            " 3   catalog_entry     52757 non-null  object \n",
            " 4   entry_type        52757 non-null  object \n",
            " 5   is_north_america  52757 non-null  int64  \n",
            " 6   is_latin_america  52757 non-null  int64  \n",
            " 7   is_emea           52757 non-null  int64  \n",
            " 8   is_asia_pacific   52757 non-null  int64  \n",
            " 9   outage_datetime   52757 non-null  object \n",
            " 10  num_interfaces    52757 non-null  int64  \n",
            " 11  num_locations     52757 non-null  int64  \n",
            " 12  num_root_domains  52757 non-null  int64  \n",
            " 13  duration_rounds   52757 non-null  int64  \n",
            " 14  x0_               52757 non-null  float64\n",
            " 15  x0_CDN            52757 non-null  float64\n",
            " 16  x0_DNS            52757 non-null  float64\n",
            " 17  x0_DNS-CDN-IAAS   52757 non-null  float64\n",
            " 18  x0_IAAS           52757 non-null  float64\n",
            " 19  x0_ISP            52757 non-null  float64\n",
            " 20  x0_SECAAS         52757 non-null  float64\n",
            " 21  x0_UCAAS          52757 non-null  float64\n",
            " 22  x0_UCAAS-IAAS     52757 non-null  float64\n",
            "dtypes: float64(9), int64(8), object(6)\n",
            "memory usage: 9.7+ MB\n"
          ],
          "name": "stdout"
        }
      ]
    },
    {
      "cell_type": "markdown",
      "metadata": {
        "id": "p3WR9eMPqVCB"
      },
      "source": [
        "# Explore Data"
      ]
    },
    {
      "cell_type": "code",
      "metadata": {
        "colab": {
          "base_uri": "https://localhost:8080/",
          "height": 879
        },
        "id": "td7gxT9NqYAX",
        "outputId": "291efca7-aab1-4bb7-af16-b86d136b6e05"
      },
      "source": [
        "final_df[['num_interfaces', 'num_locations', 'num_root_domains', 'duration_rounds']].hist(bins=50, figsize=(20,15))\n",
        "plt.show()"
      ],
      "execution_count": null,
      "outputs": [
        {
          "output_type": "display_data",
          "data": {
            "image/png": "[encoded data removed]",
            "text/plain": [
              "<Figure size 1440x1080 with 4 Axes>"
            ]
          },
          "metadata": {
            "tags": []
          }
        }
      ]
    },
    {
      "cell_type": "markdown",
      "metadata": {
        "id": "43Q9TW3kqtZP"
      },
      "source": [
        "Skews are to expected - will need to normalize later"
      ]
    },
    {
      "cell_type": "code",
      "metadata": {
        "colab": {
          "base_uri": "https://localhost:8080/",
          "height": 142
        },
        "id": "3cOya8qxr3-6",
        "outputId": "668a1e4f-5747-4ab4-9e91-736fd78b515c"
      },
      "source": [
        "final_df.groupby(['is_north_america']).duration_rounds.describe()"
      ],
      "execution_count": null,
      "outputs": [
        {
          "output_type": "execute_result",
          "data": {
            "text/html": [
              "<div>\n",
              "<style scoped>\n",
              "    .dataframe tbody tr th:only-of-type {\n",
              "        vertical-align: middle;\n",
              "    }\n",
              "\n",
              "    .dataframe tbody tr th {\n",
              "        vertical-align: top;\n",
              "    }\n",
              "\n",
              "    .dataframe thead th {\n",
              "        text-align: right;\n",
              "    }\n",
              "</style>\n",
              "<table border=\"1\" class=\"dataframe\">\n",
              "  <thead>\n",
              "    <tr style=\"text-align: right;\">\n",
              "      <th></th>\n",
              "      <th>count</th>\n",
              "      <th>mean</th>\n",
              "      <th>std</th>\n",
              "      <th>min</th>\n",
              "      <th>25%</th>\n",
              "      <th>50%</th>\n",
              "      <th>75%</th>\n",
              "      <th>max</th>\n",
              "    </tr>\n",
              "    <tr>\n",
              "      <th>is_north_america</th>\n",
              "      <th></th>\n",
              "      <th></th>\n",
              "      <th></th>\n",
              "      <th></th>\n",
              "      <th></th>\n",
              "      <th></th>\n",
              "      <th></th>\n",
              "      <th></th>\n",
              "    </tr>\n",
              "  </thead>\n",
              "  <tbody>\n",
              "    <tr>\n",
              "      <th>0</th>\n",
              "      <td>15050.0</td>\n",
              "      <td>2.647375</td>\n",
              "      <td>2.994420</td>\n",
              "      <td>1.0</td>\n",
              "      <td>1.0</td>\n",
              "      <td>1.0</td>\n",
              "      <td>3.0</td>\n",
              "      <td>25.0</td>\n",
              "    </tr>\n",
              "    <tr>\n",
              "      <th>1</th>\n",
              "      <td>37707.0</td>\n",
              "      <td>5.380911</td>\n",
              "      <td>4.411515</td>\n",
              "      <td>1.0</td>\n",
              "      <td>2.0</td>\n",
              "      <td>4.0</td>\n",
              "      <td>8.0</td>\n",
              "      <td>21.0</td>\n",
              "    </tr>\n",
              "  </tbody>\n",
              "</table>\n",
              "</div>"
            ],
            "text/plain": [
              "                    count      mean       std  min  25%  50%  75%   max\n",
              "is_north_america                                                       \n",
              "0                 15050.0  2.647375  2.994420  1.0  1.0  1.0  3.0  25.0\n",
              "1                 37707.0  5.380911  4.411515  1.0  2.0  4.0  8.0  21.0"
            ]
          },
          "metadata": {
            "tags": []
          },
          "execution_count": 106
        }
      ]
    },
    {
      "cell_type": "code",
      "metadata": {
        "colab": {
          "base_uri": "https://localhost:8080/",
          "height": 609
        },
        "id": "t5eXpomysKVZ",
        "outputId": "ad6f1755-e5f2-4186-ad43-d3472dae1b3b"
      },
      "source": [
        "final_df[final_df.is_north_america == 1].duration_rounds.hist(bins=25, figsize=(12,10), color='green')\n",
        "final_df[final_df.is_north_america == 0].duration_rounds.hist(bins=25, figsize=(12,10), color='orange')"
      ],
      "execution_count": null,
      "outputs": [
        {
          "output_type": "execute_result",
          "data": {
            "text/plain": [
              "<matplotlib.axes._subplots.AxesSubplot at 0x7f32698fb9e8>"
            ]
          },
          "metadata": {
            "tags": []
          },
          "execution_count": 107
        },
        {
          "output_type": "display_data",
          "data": {
            "image/png": "[encoded data removed]",
            "text/plain": [
              "<Figure size 864x720 with 1 Axes>"
            ]
          },
          "metadata": {
            "tags": []
          }
        }
      ]
    },
    {
      "cell_type": "markdown",
      "metadata": {
        "id": "3FiIXKL3su8s"
      },
      "source": [
        "Seems duration is a bit longer for north american ASNs - not sure if this is due to correlation or because most outages occur in North america"
      ]
    },
    {
      "cell_type": "code",
      "metadata": {
        "colab": {
          "base_uri": "https://localhost:8080/"
        },
        "id": "GhMu1mlrs4F_",
        "outputId": "27190711-3093-4289-9713-2b76dad05094"
      },
      "source": [
        "final_df.is_latin_america.value_counts(normalize=True) #won't include latin america since it's a very small proportion"
      ],
      "execution_count": null,
      "outputs": [
        {
          "output_type": "execute_result",
          "data": {
            "text/plain": [
              "0    0.974165\n",
              "1    0.025835\n",
              "Name: is_latin_america, dtype: float64"
            ]
          },
          "metadata": {
            "tags": []
          },
          "execution_count": 108
        }
      ]
    },
    {
      "cell_type": "code",
      "metadata": {
        "id": "4HfAL9seJr1b",
        "colab": {
          "base_uri": "https://localhost:8080/",
          "height": 609
        },
        "outputId": "c1e7a694-af9f-47aa-abe0-ae6580e65313"
      },
      "source": [
        "final_df[final_df.is_latin_america == 1].duration_rounds.hist(bins=25, figsize=(12,10), color='green')\n",
        "final_df[final_df.is_latin_america == 0].duration_rounds.hist(bins=25, figsize=(12,10), color='orange')"
      ],
      "execution_count": null,
      "outputs": [
        {
          "output_type": "execute_result",
          "data": {
            "text/plain": [
              "<matplotlib.axes._subplots.AxesSubplot at 0x7f326b944438>"
            ]
          },
          "metadata": {
            "tags": []
          },
          "execution_count": 109
        },
        {
          "output_type": "display_data",
          "data": {
            "image/png": "[encoded data removed]",
            "text/plain": [
              "<Figure size 864x720 with 1 Axes>"
            ]
          },
          "metadata": {
            "tags": []
          }
        }
      ]
    },
    {
      "cell_type": "code",
      "metadata": {
        "colab": {
          "base_uri": "https://localhost:8080/"
        },
        "id": "eyeR26bksUP1",
        "outputId": "8dbc1d11-5ad0-4b39-b636-ebf5d076d9b5"
      },
      "source": [
        "final_df.is_emea.value_counts(normalize=True) #probably enough to include EMEA"
      ],
      "execution_count": null,
      "outputs": [
        {
          "output_type": "execute_result",
          "data": {
            "text/plain": [
              "0    0.593078\n",
              "1    0.406922\n",
              "Name: is_emea, dtype: float64"
            ]
          },
          "metadata": {
            "tags": []
          },
          "execution_count": 110
        }
      ]
    },
    {
      "cell_type": "code",
      "metadata": {
        "colab": {
          "base_uri": "https://localhost:8080/",
          "height": 609
        },
        "id": "0QlwSZZz8bCL",
        "outputId": "a34c78bb-f6a1-407d-a264-c578f0bce697"
      },
      "source": [
        "final_df[final_df.is_emea == 1].duration_rounds.hist(bins=25, figsize=(12,10), color='green')\n",
        "final_df[final_df.is_emea == 0].duration_rounds.hist(bins=25, figsize=(12,10), color='orange')"
      ],
      "execution_count": null,
      "outputs": [
        {
          "output_type": "execute_result",
          "data": {
            "text/plain": [
              "<matplotlib.axes._subplots.AxesSubplot at 0x7f326b8c65c0>"
            ]
          },
          "metadata": {
            "tags": []
          },
          "execution_count": 111
        },
        {
          "output_type": "display_data",
          "data": {
            "image/png": "[encoded data removed]",
            "text/plain": [
              "<Figure size 864x720 with 1 Axes>"
            ]
          },
          "metadata": {
            "tags": []
          }
        }
      ]
    },
    {
      "cell_type": "code",
      "metadata": {
        "colab": {
          "base_uri": "https://localhost:8080/"
        },
        "id": "1TEQq588tRDn",
        "outputId": "5cc25d63-443b-4cc8-c0b1-618d0917be22"
      },
      "source": [
        "final_df.is_asia_pacific.value_counts(normalize=True) #pretty small but enough to keep for now"
      ],
      "execution_count": null,
      "outputs": [
        {
          "output_type": "execute_result",
          "data": {
            "text/plain": [
              "0    0.778418\n",
              "1    0.221582\n",
              "Name: is_asia_pacific, dtype: float64"
            ]
          },
          "metadata": {
            "tags": []
          },
          "execution_count": 112
        }
      ]
    },
    {
      "cell_type": "code",
      "metadata": {
        "colab": {
          "base_uri": "https://localhost:8080/",
          "height": 609
        },
        "id": "ZVcLGsA08gvE",
        "outputId": "49a9c0c0-e850-4105-d914-710b34a497eb"
      },
      "source": [
        "final_df[final_df.is_asia_pacific == 1].duration_rounds.hist(bins=25, figsize=(12,10), color='green')\n",
        "final_df[final_df.is_asia_pacific == 0].duration_rounds.hist(bins=25, figsize=(12,10), color='orange')"
      ],
      "execution_count": null,
      "outputs": [
        {
          "output_type": "execute_result",
          "data": {
            "text/plain": [
              "<matplotlib.axes._subplots.AxesSubplot at 0x7f3269a329b0>"
            ]
          },
          "metadata": {
            "tags": []
          },
          "execution_count": 113
        },
        {
          "output_type": "display_data",
          "data": {
            "image/png": "[encoded data removed]",
            "text/plain": [
              "<Figure size 864x720 with 1 Axes>"
            ]
          },
          "metadata": {
            "tags": []
          }
        }
      ]
    },
    {
      "cell_type": "code",
      "metadata": {
        "colab": {
          "base_uri": "https://localhost:8080/"
        },
        "id": "f_BQaUf7ty-o",
        "outputId": "e076a693-bd29-4e26-f2df-b6ce7c3c50e1"
      },
      "source": [
        "len(final_df[final_df.x0_ == 1])"
      ],
      "execution_count": null,
      "outputs": [
        {
          "output_type": "execute_result",
          "data": {
            "text/plain": [
              "123"
            ]
          },
          "metadata": {
            "tags": []
          },
          "execution_count": 114
        }
      ]
    },
    {
      "cell_type": "code",
      "metadata": {
        "id": "KdgLn2TWqxcG"
      },
      "source": [
        "corr_matrix = final_df[['is_north_america', 'is_latin_america', 'is_emea', 'is_asia_pacific', 'num_interfaces', 'num_locations',\n",
        "       'num_root_domains', 'duration_rounds', 'x0_', 'x0_CDN', 'x0_DNS',\n",
        "       'x0_DNS-CDN-IAAS', 'x0_IAAS', 'x0_ISP', 'x0_SECAAS', 'x0_UCAAS',\n",
        "       'x0_UCAAS-IAAS']].corr()"
      ],
      "execution_count": null,
      "outputs": []
    },
    {
      "cell_type": "code",
      "metadata": {
        "colab": {
          "base_uri": "https://localhost:8080/"
        },
        "id": "oDaDop4AwuCV",
        "outputId": "f81375db-24e0-4308-a38d-732aef0ddbad"
      },
      "source": [
        "corr_matrix['duration_rounds'].sort_values(ascending=False)"
      ],
      "execution_count": null,
      "outputs": [
        {
          "output_type": "execute_result",
          "data": {
            "text/plain": [
              "duration_rounds     1.000000\n",
              "is_north_america    0.291006\n",
              "num_locations       0.288784\n",
              "num_interfaces      0.229054\n",
              "num_root_domains    0.212163\n",
              "is_emea             0.111356\n",
              "x0_ISP              0.089783\n",
              "x0_                 0.008531\n",
              "x0_UCAAS-IAAS       0.008317\n",
              "is_asia_pacific     0.006079\n",
              "x0_CDN             -0.012219\n",
              "x0_DNS             -0.020630\n",
              "x0_DNS-CDN-IAAS    -0.024206\n",
              "x0_UCAAS           -0.025704\n",
              "is_latin_america   -0.043727\n",
              "x0_SECAAS          -0.057687\n",
              "x0_IAAS            -0.079995\n",
              "Name: duration_rounds, dtype: float64"
            ]
          },
          "metadata": {
            "tags": []
          },
          "execution_count": 116
        }
      ]
    },
    {
      "cell_type": "code",
      "metadata": {
        "colab": {
          "base_uri": "https://localhost:8080/"
        },
        "id": "bfGKmhuBw6Jm",
        "outputId": "0b76324a-7411-4b1e-c076-fa68ffd6ca4e"
      },
      "source": [
        "corr_matrix['is_north_america'].sort_values(ascending=False)"
      ],
      "execution_count": null,
      "outputs": [
        {
          "output_type": "execute_result",
          "data": {
            "text/plain": [
              "is_north_america    1.000000\n",
              "num_locations       0.394098\n",
              "num_interfaces      0.322060\n",
              "num_root_domains    0.302653\n",
              "duration_rounds     0.291006\n",
              "x0_ISP              0.132470\n",
              "x0_CDN              0.025796\n",
              "x0_                 0.008781\n",
              "x0_DNS             -0.019087\n",
              "x0_IAAS            -0.027558\n",
              "x0_UCAAS           -0.027944\n",
              "x0_SECAAS          -0.075704\n",
              "x0_UCAAS-IAAS      -0.079606\n",
              "is_latin_america   -0.092923\n",
              "x0_DNS-CDN-IAAS    -0.103009\n",
              "is_emea            -0.110214\n",
              "is_asia_pacific    -0.309008\n",
              "Name: is_north_america, dtype: float64"
            ]
          },
          "metadata": {
            "tags": []
          },
          "execution_count": 117
        }
      ]
    },
    {
      "cell_type": "code",
      "metadata": {
        "id": "KwK6Jeb9xooi"
      },
      "source": [
        "import seaborn as sns"
      ],
      "execution_count": null,
      "outputs": []
    },
    {
      "cell_type": "code",
      "metadata": {
        "colab": {
          "base_uri": "https://localhost:8080/",
          "height": 592
        },
        "id": "XA36Ti6ixp4n",
        "outputId": "93f141ac-38fb-4fcb-c42e-517e90f25721"
      },
      "source": [
        "#fig, ax = plt.subplots()\n",
        "ax = plt.subplots(figsize=(2,10))\n",
        "ax = sns.heatmap(corr_matrix[['duration_rounds']].sort_values(by='duration_rounds', ascending=False), annot=True, fmt='.1g', vmin=-1, vmax=1, cmap='coolwarm') \n",
        "plt.show()"
      ],
      "execution_count": null,
      "outputs": [
        {
          "output_type": "display_data",
          "data": {
            "image/png": "[encoded data removed]",
            "text/plain": [
              "<Figure size 144x720 with 2 Axes>"
            ]
          },
          "metadata": {
            "tags": []
          }
        }
      ]
    },
    {
      "cell_type": "code",
      "metadata": {
        "colab": {
          "base_uri": "https://localhost:8080/",
          "height": 680
        },
        "id": "n-wKnl1V0paR",
        "outputId": "f98381a4-ae90-4f2c-8443-975ebdf9d57b"
      },
      "source": [
        "ax = plt.subplots(figsize=(15,10))\n",
        "ax = sns.heatmap(corr_matrix, annot=True, fmt='.1g', vmin=-1, vmax=1, cmap='coolwarm') \n",
        "plt.show()"
      ],
      "execution_count": null,
      "outputs": [
        {
          "output_type": "display_data",
          "data": {
            "image/png": "[encoded data removed]",
            "text/plain": [
              "<Figure size 1080x720 with 2 Axes>"
            ]
          },
          "metadata": {
            "tags": []
          }
        }
      ]
    },
    {
      "cell_type": "code",
      "metadata": {
        "colab": {
          "base_uri": "https://localhost:8080/",
          "height": 360
        },
        "id": "fBVAVl5KIyYc",
        "outputId": "5a9aa347-86f9-4b58-e191-ca6b53e9bbcc"
      },
      "source": [
        "final_df.head()"
      ],
      "execution_count": null,
      "outputs": [
        {
          "output_type": "execute_result",
          "data": {
            "text/html": [
              "<div>\n",
              "<style scoped>\n",
              "    .dataframe tbody tr th:only-of-type {\n",
              "        vertical-align: middle;\n",
              "    }\n",
              "\n",
              "    .dataframe tbody tr th {\n",
              "        vertical-align: top;\n",
              "    }\n",
              "\n",
              "    .dataframe thead th {\n",
              "        text-align: right;\n",
              "    }\n",
              "</style>\n",
              "<table border=\"1\" class=\"dataframe\">\n",
              "  <thead>\n",
              "    <tr style=\"text-align: right;\">\n",
              "      <th></th>\n",
              "      <th>outage_event_id</th>\n",
              "      <th>asn</th>\n",
              "      <th>as_name</th>\n",
              "      <th>catalog_entry</th>\n",
              "      <th>entry_type</th>\n",
              "      <th>is_north_america</th>\n",
              "      <th>is_latin_america</th>\n",
              "      <th>is_emea</th>\n",
              "      <th>is_asia_pacific</th>\n",
              "      <th>outage_datetime</th>\n",
              "      <th>num_interfaces</th>\n",
              "      <th>num_locations</th>\n",
              "      <th>num_root_domains</th>\n",
              "      <th>duration_rounds</th>\n",
              "      <th>x0_</th>\n",
              "      <th>x0_CDN</th>\n",
              "      <th>x0_DNS</th>\n",
              "      <th>x0_DNS-CDN-IAAS</th>\n",
              "      <th>x0_IAAS</th>\n",
              "      <th>x0_ISP</th>\n",
              "      <th>x0_SECAAS</th>\n",
              "      <th>x0_UCAAS</th>\n",
              "      <th>x0_UCAAS-IAAS</th>\n",
              "    </tr>\n",
              "  </thead>\n",
              "  <tbody>\n",
              "    <tr>\n",
              "      <th>1</th>\n",
              "      <td>5d5658a2b55155283e02e143</td>\n",
              "      <td>6939</td>\n",
              "      <td>Hurricane Electric, Inc.</td>\n",
              "      <td>Hurricane Electric</td>\n",
              "      <td>ISP</td>\n",
              "      <td>1</td>\n",
              "      <td>0</td>\n",
              "      <td>0</td>\n",
              "      <td>0</td>\n",
              "      <td>2019-08-16 07:10:00</td>\n",
              "      <td>3</td>\n",
              "      <td>1</td>\n",
              "      <td>2</td>\n",
              "      <td>1</td>\n",
              "      <td>0.0</td>\n",
              "      <td>0.0</td>\n",
              "      <td>1.0</td>\n",
              "      <td>0.0</td>\n",
              "      <td>0.0</td>\n",
              "      <td>0.0</td>\n",
              "      <td>0.0</td>\n",
              "      <td>0.0</td>\n",
              "      <td>0.0</td>\n",
              "    </tr>\n",
              "    <tr>\n",
              "      <th>2</th>\n",
              "      <td>5d565c13eba6210ace81ef5f</td>\n",
              "      <td>26415</td>\n",
              "      <td>VeriSign Global Registry Services</td>\n",
              "      <td>Verisign</td>\n",
              "      <td>DNS</td>\n",
              "      <td>1</td>\n",
              "      <td>0</td>\n",
              "      <td>0</td>\n",
              "      <td>0</td>\n",
              "      <td>2019-08-16 07:25:00</td>\n",
              "      <td>3</td>\n",
              "      <td>1</td>\n",
              "      <td>4</td>\n",
              "      <td>1</td>\n",
              "      <td>0.0</td>\n",
              "      <td>0.0</td>\n",
              "      <td>0.0</td>\n",
              "      <td>0.0</td>\n",
              "      <td>0.0</td>\n",
              "      <td>1.0</td>\n",
              "      <td>0.0</td>\n",
              "      <td>0.0</td>\n",
              "      <td>0.0</td>\n",
              "    </tr>\n",
              "    <tr>\n",
              "      <th>3</th>\n",
              "      <td>5d567715de837a880c530dc1</td>\n",
              "      <td>41095</td>\n",
              "      <td>IPTriplePlay Ltd</td>\n",
              "      <td>IPTP Networks</td>\n",
              "      <td>ISP</td>\n",
              "      <td>1</td>\n",
              "      <td>0</td>\n",
              "      <td>0</td>\n",
              "      <td>0</td>\n",
              "      <td>2019-08-16 09:20:00</td>\n",
              "      <td>3</td>\n",
              "      <td>1</td>\n",
              "      <td>2</td>\n",
              "      <td>4</td>\n",
              "      <td>0.0</td>\n",
              "      <td>0.0</td>\n",
              "      <td>0.0</td>\n",
              "      <td>0.0</td>\n",
              "      <td>0.0</td>\n",
              "      <td>1.0</td>\n",
              "      <td>0.0</td>\n",
              "      <td>0.0</td>\n",
              "      <td>0.0</td>\n",
              "    </tr>\n",
              "    <tr>\n",
              "      <th>4</th>\n",
              "      <td>5d567715de837a880c530dc0</td>\n",
              "      <td>3356</td>\n",
              "      <td>Level 3 Communications, Inc.</td>\n",
              "      <td>Century Link</td>\n",
              "      <td>ISP</td>\n",
              "      <td>1</td>\n",
              "      <td>0</td>\n",
              "      <td>0</td>\n",
              "      <td>0</td>\n",
              "      <td>2019-08-16 09:20:00</td>\n",
              "      <td>3</td>\n",
              "      <td>1</td>\n",
              "      <td>2</td>\n",
              "      <td>1</td>\n",
              "      <td>0.0</td>\n",
              "      <td>0.0</td>\n",
              "      <td>0.0</td>\n",
              "      <td>0.0</td>\n",
              "      <td>0.0</td>\n",
              "      <td>1.0</td>\n",
              "      <td>0.0</td>\n",
              "      <td>0.0</td>\n",
              "      <td>0.0</td>\n",
              "    </tr>\n",
              "    <tr>\n",
              "      <th>5</th>\n",
              "      <td>5d56782efbb90e076e6560bf</td>\n",
              "      <td>41095</td>\n",
              "      <td>IPTriplePlay Ltd</td>\n",
              "      <td>IPTP Networks</td>\n",
              "      <td>ISP</td>\n",
              "      <td>1</td>\n",
              "      <td>0</td>\n",
              "      <td>0</td>\n",
              "      <td>0</td>\n",
              "      <td>2019-08-16 09:25:00</td>\n",
              "      <td>6</td>\n",
              "      <td>1</td>\n",
              "      <td>6</td>\n",
              "      <td>4</td>\n",
              "      <td>0.0</td>\n",
              "      <td>0.0</td>\n",
              "      <td>0.0</td>\n",
              "      <td>0.0</td>\n",
              "      <td>0.0</td>\n",
              "      <td>1.0</td>\n",
              "      <td>0.0</td>\n",
              "      <td>0.0</td>\n",
              "      <td>0.0</td>\n",
              "    </tr>\n",
              "  </tbody>\n",
              "</table>\n",
              "</div>"
            ],
            "text/plain": [
              "            outage_event_id    asn  ... x0_UCAAS x0_UCAAS-IAAS\n",
              "1  5d5658a2b55155283e02e143   6939  ...      0.0           0.0\n",
              "2  5d565c13eba6210ace81ef5f  26415  ...      0.0           0.0\n",
              "3  5d567715de837a880c530dc1  41095  ...      0.0           0.0\n",
              "4  5d567715de837a880c530dc0   3356  ...      0.0           0.0\n",
              "5  5d56782efbb90e076e6560bf  41095  ...      0.0           0.0\n",
              "\n",
              "[5 rows x 23 columns]"
            ]
          },
          "metadata": {
            "tags": []
          },
          "execution_count": 121
        }
      ]
    },
    {
      "cell_type": "markdown",
      "metadata": {
        "id": "2vEgupnuKLLx"
      },
      "source": [
        "# Train models and make the prediction"
      ]
    },
    {
      "cell_type": "markdown",
      "metadata": {
        "id": "N-_c3xAwOuMM"
      },
      "source": [
        "### Split Data\n",
        "\n",
        "> Indented block\n",
        "\n"
      ]
    },
    {
      "cell_type": "code",
      "metadata": {
        "id": "bkm5OuZ4hh5M"
      },
      "source": [
        "from sklearn.model_selection import train_test_split\n",
        "\n",
        "# From our final_df cleaned dataset, seperate the features from the target\n",
        "x = final_df[['x0_ISP', 'is_emea', 'is_north_america', 'num_interfaces', 'num_locations', 'num_root_domains']].copy()\n",
        "y = final_df[['duration_rounds']].copy()\n",
        "\n",
        "# Split data between train and test sets\n",
        "# random_state is optional and seeds the randomisation for the split\n",
        "x_train, x_test, y_train, y_test = train_test_split(x, y, test_size=0.2, random_state=42)"
      ],
      "execution_count": null,
      "outputs": []
    },
    {
      "cell_type": "markdown",
      "metadata": {
        "id": "1c5o1t8u9GgP"
      },
      "source": [
        "### Training Model A : Linear Regression\n",
        "\n",
        "> Indented block\n",
        "\n"
      ]
    },
    {
      "cell_type": "code",
      "metadata": {
        "id": "c66cxcmV1HFl",
        "colab": {
          "base_uri": "https://localhost:8080/"
        },
        "outputId": "d7cb32ab-8793-48fa-dba7-c26107edd2ac"
      },
      "source": [
        "from sklearn.linear_model import LinearRegression\n",
        "\n",
        "# Create the model object\n",
        "linear_regression = LinearRegression()\n",
        "\n",
        "# Train the model\n",
        "linear_regression.fit(x_train, y_train)\n",
        "\n",
        "# Print coefficients\n",
        "print('Coefficients: \\n', linear_regression.coef_)"
      ],
      "execution_count": null,
      "outputs": [
        {
          "output_type": "stream",
          "text": [
            "Coefficients: \n",
            " [[ 0.27970706  0.61189418  2.03073971 -0.02189607  0.35222146 -0.00306955]]\n"
          ],
          "name": "stdout"
        }
      ]
    },
    {
      "cell_type": "markdown",
      "metadata": {
        "id": "HlfnQC2t1HBe"
      },
      "source": [
        "Predict test results based on Model A"
      ]
    },
    {
      "cell_type": "code",
      "metadata": {
        "id": "yeYCYMwWwJds",
        "colab": {
          "base_uri": "https://localhost:8080/"
        },
        "outputId": "d41c891e-f39f-4d1f-d63d-10f8778d4348"
      },
      "source": [
        "# Predict with the test data\n",
        "y_lr_prediction = linear_regression.predict(x_test)\n",
        "y_lr_prediction_rounded = np.rint(y_lr_prediction).tolist()\n",
        "\n",
        "# Calculate MSRE\n",
        "from sklearn.metrics import mean_squared_error\n",
        "mean_squared_error(y_test, y_lr_prediction_rounded)"
      ],
      "execution_count": null,
      "outputs": [
        {
          "output_type": "execute_result",
          "data": {
            "text/plain": [
              "15.507865807429871"
            ]
          },
          "metadata": {
            "tags": []
          },
          "execution_count": 124
        }
      ]
    },
    {
      "cell_type": "markdown",
      "metadata": {
        "id": "W1RyJDMA1B58"
      },
      "source": [
        "### Training Model B : Decision Tree"
      ]
    },
    {
      "cell_type": "code",
      "metadata": {
        "id": "F-h7T4Pr1vVj",
        "colab": {
          "base_uri": "https://localhost:8080/"
        },
        "outputId": "ee2201ad-7a60-417f-b3b7-e866dfb4dde3"
      },
      "source": [
        "from sklearn.tree import DecisionTreeRegressor\n",
        "\n",
        "# Create the model object\n",
        "decision_regressor = DecisionTreeRegressor(random_state = 0)\n",
        "\n",
        "# Train the model\n",
        "decision_regressor.fit(x_train, y_train)"
      ],
      "execution_count": null,
      "outputs": [
        {
          "output_type": "execute_result",
          "data": {
            "text/plain": [
              "DecisionTreeRegressor(ccp_alpha=0.0, criterion='mse', max_depth=None,\n",
              "                      max_features=None, max_leaf_nodes=None,\n",
              "                      min_impurity_decrease=0.0, min_impurity_split=None,\n",
              "                      min_samples_leaf=1, min_samples_split=2,\n",
              "                      min_weight_fraction_leaf=0.0, presort='deprecated',\n",
              "                      random_state=0, splitter='best')"
            ]
          },
          "metadata": {
            "tags": []
          },
          "execution_count": 125
        }
      ]
    },
    {
      "cell_type": "markdown",
      "metadata": {
        "id": "6mmpYys01dS0"
      },
      "source": [
        "Predict test results based on Model B"
      ]
    },
    {
      "cell_type": "code",
      "metadata": {
        "id": "aAci9E4t2ZVW",
        "colab": {
          "base_uri": "https://localhost:8080/"
        },
        "outputId": "94bd6351-7b35-41dc-a15e-b5fbe3333a6d"
      },
      "source": [
        "# Predict with the test data\n",
        "y_dt_prediction = decision_regressor.predict(x_test)\n",
        "y_dt_prediction_rounded = np.rint(y_dt_prediction).tolist()\n",
        "#print(y_test)\n",
        "#print(y_dt_prediction)\n",
        "\n",
        "# Calculate F1 score\n",
        "from sklearn.metrics import f1_score\n",
        "f1_score(y_test,y_dt_prediction_rounded,average='weighted')"
      ],
      "execution_count": null,
      "outputs": [
        {
          "output_type": "execute_result",
          "data": {
            "text/plain": [
              "0.6398939386151444"
            ]
          },
          "metadata": {
            "tags": []
          },
          "execution_count": 126
        }
      ]
    },
    {
      "cell_type": "markdown",
      "metadata": {
        "id": "Snlfk6Z_1FbR"
      },
      "source": [
        "### Training Model C : KNN"
      ]
    },
    {
      "cell_type": "code",
      "metadata": {
        "id": "lT0oWj3i_kjU",
        "colab": {
          "base_uri": "https://localhost:8080/"
        },
        "outputId": "8aeeb736-3b88-45c2-9b55-24b3266f2e7e"
      },
      "source": [
        "from sklearn.metrics import f1_score\n",
        "from sklearn.neighbors import KNeighborsClassifier\n",
        "\n",
        "# Create the model object\n",
        "neigh_regresser = KNeighborsClassifier(n_neighbors=2)\n",
        "\n",
        "# Train the model\n",
        "neigh_regresser.fit(x_train, y_train)"
      ],
      "execution_count": null,
      "outputs": [
        {
          "output_type": "stream",
          "text": [
            "/usr/local/lib/python3.6/dist-packages/ipykernel_launcher.py:8: DataConversionWarning: A column-vector y was passed when a 1d array was expected. Please change the shape of y to (n_samples, ), for example using ravel().\n",
            "  \n"
          ],
          "name": "stderr"
        },
        {
          "output_type": "execute_result",
          "data": {
            "text/plain": [
              "KNeighborsClassifier(algorithm='auto', leaf_size=30, metric='minkowski',\n",
              "                     metric_params=None, n_jobs=None, n_neighbors=2, p=2,\n",
              "                     weights='uniform')"
            ]
          },
          "metadata": {
            "tags": []
          },
          "execution_count": 127
        }
      ]
    },
    {
      "cell_type": "code",
      "metadata": {
        "id": "4glzzrm8AqLy",
        "colab": {
          "base_uri": "https://localhost:8080/"
        },
        "outputId": "206d7c5b-6b64-4346-ae82-7f2c20a7941c"
      },
      "source": [
        "# Train the model\n",
        "y_neigh_prediction = neigh_regresser.predict(x_test)\n",
        "y_neigh_prediction_rounded = np.rint(y_neigh_prediction).tolist()\n",
        "\n",
        "# Calculate F1 score\n",
        "f1_score(y_test,y_neigh_prediction_rounded,average='weighted')"
      ],
      "execution_count": null,
      "outputs": [
        {
          "output_type": "execute_result",
          "data": {
            "text/plain": [
              "0.7505560275947462"
            ]
          },
          "metadata": {
            "tags": []
          },
          "execution_count": 128
        }
      ]
    },
    {
      "cell_type": "markdown",
      "metadata": {
        "id": "gDVijCuR6HIs"
      },
      "source": [
        "Pick the most accurate model data : Ensemble"
      ]
    },
    {
      "cell_type": "markdown",
      "metadata": {
        "id": "Fpun7UxtQCbP"
      },
      "source": [
        "### Training Model D : SVR\n"
      ]
    },
    {
      "cell_type": "code",
      "metadata": {
        "id": "drTyZNgZQRGr",
        "colab": {
          "base_uri": "https://localhost:8080/"
        },
        "outputId": "45653a45-613b-4018-817d-9f4bb01641ac"
      },
      "source": [
        "from sklearn.svm import SVR\n",
        "\n",
        "# Create the model object\n",
        "svr_regressor = SVR(kernel= 'rbf')\n",
        "y_train = y_train.duration_rounds.tolist()\n",
        "\n",
        "# Train the model\n",
        "svr_regressor.fit(x_train, y_train)"
      ],
      "execution_count": null,
      "outputs": [
        {
          "output_type": "execute_result",
          "data": {
            "text/plain": [
              "SVR(C=1.0, cache_size=200, coef0=0.0, degree=3, epsilon=0.1, gamma='scale',\n",
              "    kernel='rbf', max_iter=-1, shrinking=True, tol=0.001, verbose=False)"
            ]
          },
          "metadata": {
            "tags": []
          },
          "execution_count": 129
        }
      ]
    },
    {
      "cell_type": "code",
      "metadata": {
        "id": "b_s_gValQUQw",
        "colab": {
          "base_uri": "https://localhost:8080/"
        },
        "outputId": "c0570acf-b92e-4c70-cab8-ae2feb0df529"
      },
      "source": [
        "# Predict with the test data\n",
        "y_svr_prediction = svr_regressor.predict(x_test)\n",
        "y_svr_prediction_rounded = np.rint(y_svr_prediction).tolist()\n",
        "\n",
        "# Calculate F1 score\n",
        "from sklearn.metrics import f1_score\n",
        "f1_score(y_test,y_svr_prediction_rounded,average='weighted')\n",
        "\n",
        "from sklearn.metrics import mean_squared_error\n",
        "mean_squared_error(y_test, y_svr_prediction_rounded)"
      ],
      "execution_count": null,
      "outputs": [
        {
          "output_type": "execute_result",
          "data": {
            "text/plain": [
              "15.534021986353299"
            ]
          },
          "metadata": {
            "tags": []
          },
          "execution_count": 130
        }
      ]
    },
    {
      "cell_type": "markdown",
      "metadata": {
        "id": "XUsodaFzVIpF"
      },
      "source": [
        "### Training Model E: Naive Bayes\n",
        "\n",
        "\n",
        "\n"
      ]
    },
    {
      "cell_type": "code",
      "metadata": {
        "id": "rlWNrRwhVbw1"
      },
      "source": [
        "from sklearn.naive_bayes import GaussianNB\n",
        "\n",
        "#train ze model\n",
        "gnb = GaussianNB()\n",
        "y_gnb_pred = gnb.fit(x_train, y_train).predict(x_test)\n"
      ],
      "execution_count": null,
      "outputs": []
    },
    {
      "cell_type": "code",
      "metadata": {
        "id": "G84zNusZWNky",
        "colab": {
          "base_uri": "https://localhost:8080/"
        },
        "outputId": "9dd34c0c-0d1c-4e36-b367-297a3dbdf423"
      },
      "source": [
        "f1_score(y_test, y_gnb_pred, average='weighted')"
      ],
      "execution_count": null,
      "outputs": [
        {
          "output_type": "execute_result",
          "data": {
            "text/plain": [
              "0.1894345356859767"
            ]
          },
          "metadata": {
            "tags": []
          },
          "execution_count": 132
        }
      ]
    },
    {
      "cell_type": "code",
      "metadata": {
        "id": "0K9qHQVBV9Kf"
      },
      "source": [
        "from sklearn.naive_bayes import BernoulliNB\n",
        "brn = BernoulliNB()\n",
        "\n",
        "y_brn_pred = brn.fit(x_train, y_train).predict(x_test)\n"
      ],
      "execution_count": null,
      "outputs": []
    },
    {
      "cell_type": "code",
      "metadata": {
        "id": "bBKOwh2MXNDz",
        "colab": {
          "base_uri": "https://localhost:8080/"
        },
        "outputId": "47b0d0d6-0004-43bd-b516-c9362e28c6ce"
      },
      "source": [
        "f1_score(y_test, y_brn_pred, average='weighted')"
      ],
      "execution_count": null,
      "outputs": [
        {
          "output_type": "execute_result",
          "data": {
            "text/plain": [
              "0.20339870919035513"
            ]
          },
          "metadata": {
            "tags": []
          },
          "execution_count": 134
        }
      ]
    },
    {
      "cell_type": "markdown",
      "metadata": {
        "id": "PIWW53ulLp8o"
      },
      "source": [
        "# Evaluate\n",
        "\n",
        "\n",
        "\n"
      ]
    },
    {
      "cell_type": "markdown",
      "metadata": {
        "id": "adgnegInjkfT"
      },
      "source": [
        "## Comparison of model predictions"
      ]
    },
    {
      "cell_type": "code",
      "metadata": {
        "id": "uuuaek4KC8mq",
        "colab": {
          "base_uri": "https://localhost:8080/"
        },
        "outputId": "67d08082-a533-4072-9242-12c21acaa726"
      },
      "source": [
        "linear_msre = mean_squared_error(y_test, y_lr_prediction_rounded)\n",
        "decision_f1 = f1_score(y_test,y_dt_prediction_rounded,average='weighted')\n",
        "knn_f1 = f1_score(y_test,y_neigh_prediction_rounded,average='weighted')\n",
        "svr_msre = mean_squared_error(y_test, y_svr_prediction_rounded)\n",
        "nb_f1 = f1_score(y_test, y_brn_pred, average='weighted')\n",
        "\n",
        "results = {\"Linear Regression MSRE\": linear_msre,\n",
        "           \"Decision Tree F1\": decision_f1,\n",
        "           \"KNN F1\":knn_f1,\n",
        "           \"SVR MSRE\":svr_msre,\n",
        "           \"Naive Bay F1\":nb_f1}\n",
        "\n",
        "for name, metric in results.items():\n",
        "    print(f'{name:<25}{metric:9.3f}')"
      ],
      "execution_count": null,
      "outputs": [
        {
          "output_type": "stream",
          "text": [
            "Linear Regression MSRE      15.508\n",
            "Decision Tree F1             0.640\n",
            "KNN F1                       0.751\n",
            "SVR MSRE                    15.534\n",
            "Naive Bay F1                 0.203\n"
          ],
          "name": "stdout"
        }
      ]
    },
    {
      "cell_type": "markdown",
      "metadata": {
        "id": "9sN5g96PZnT8"
      },
      "source": [
        "## Visualize KNN model prediction"
      ]
    },
    {
      "cell_type": "code",
      "metadata": {
        "id": "zridB9Q4qhaB",
        "colab": {
          "base_uri": "https://localhost:8080/",
          "height": 635
        },
        "outputId": "e992f7b1-fbb7-45e3-d541-9d6993aabec6"
      },
      "source": [
        "import seaborn as sns\n",
        "sns.set_style('white')\n",
        "plt.figure(figsize=(12,10))\n",
        "\n",
        "sns.histplot(x=y_test.duration_rounds, y=y_neigh_prediction_rounded,\n",
        "             bins=20, pmax=.1, color='green',\n",
        "             cbar=True, cbar_kws=dict(shrink=1, format='%.0f%%')\n",
        "             )\n",
        "plt.xlabel('Predicted duration', fontsize=18)\n",
        "plt.ylabel('Actual duration', fontsize=18)\n",
        "plt.title('KNN: Predicted vs Actual', fontsize=20)\n",
        "plt.ylim(top=25)\n",
        "plt.plot([y.min(), y.max()], [y.min(), y.max()], 'k-.', lw=1.5, color='lightcoral')\n",
        "plt.show()"
      ],
      "execution_count": null,
      "outputs": [
        {
          "output_type": "display_data",
          "data": {
            "image/png": "[encoded data removed]",
            "text/plain": [
              "<Figure size 864x720 with 2 Axes>"
            ]
          },
          "metadata": {
            "tags": []
          }
        }
      ]
    },
    {
      "cell_type": "markdown",
      "metadata": {
        "id": "E-d9mwPPZmcZ"
      },
      "source": [
        ""
      ]
    }
  ]
}